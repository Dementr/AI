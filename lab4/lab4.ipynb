{
 "cells": [
  {
   "cell_type": "markdown",
   "id": "d9b00585",
   "metadata": {},
   "source": [
    "# Лабораторная работа 4\n",
    "\n",
    "   по теме\n",
    "                 \n",
    "   **Распознавание рукописных символов**\n",
    "   \n",
    "   ****\n",
    "\n",
    "   Выполнил студент\n",
    "\n",
    "   Группы БСТ1801\n",
    "\n",
    "   Харатишвили Заза"
   ]
  },
  {
   "cell_type": "code",
   "execution_count": 35,
   "id": "a6413b38",
   "metadata": {},
   "outputs": [],
   "source": [
    "#Импорт бибилиотек и методов\n",
    "import tensorflow as tf\n",
    "\n",
    "import matplotlib.pyplot as plt\n",
    "\n",
    "from tensorflow.keras.utils import to_categorical\n",
    "\n",
    "from tensorflow.keras.layers import Dense, Activation, Flatten, Dropout\n",
    "from tensorflow.keras.models import Sequential"
   ]
  },
  {
   "cell_type": "code",
   "execution_count": 36,
   "id": "5b79e1c3",
   "metadata": {},
   "outputs": [],
   "source": [
    "#Получение данных\n",
    "mnist = tf.keras.datasets.mnist\n",
    "(train_images, train_labels),(test_images, test_labels) = mnist.load_data()\n",
    "#train - тренировочные наборы для обучения\n",
    "#test - контрольный набор для тестирования"
   ]
  },
  {
   "cell_type": "code",
   "execution_count": 37,
   "id": "76437de2",
   "metadata": {},
   "outputs": [
    {
     "data": {
      "image/png": "[encoded data removed]",
      "text/plain": [
       "<Figure size 432x288 with 1 Axes>"
      ]
     },
     "metadata": {
      "needs_background": "light"
     },
     "output_type": "display_data"
    },
    {
     "name": "stdout",
     "output_type": "stream",
     "text": [
      "5\n"
     ]
    }
   ],
   "source": [
    "#Сравнение текстового изображения с его меткой для проверки корректности\n",
    "plt.imshow(train_images[0],cmap=plt.cm.binary)\n",
    "plt.show()\n",
    "print(train_labels[0])"
   ]
  },
  {
   "cell_type": "code",
   "execution_count": 38,
   "id": "43765928",
   "metadata": {},
   "outputs": [],
   "source": [
    "#Нормализуем входные данные путем преобразования изоображения в массивы в бинарный интервал [0,1] из [0;255]\n",
    "train_images = train_images / 255.0\n",
    "test_images = test_images / 255.0"
   ]
  },
  {
   "cell_type": "code",
   "execution_count": 39,
   "id": "cb17d26a",
   "metadata": {},
   "outputs": [
    {
     "name": "stdout",
     "output_type": "stream",
     "text": [
      "(10000, 10)\n"
     ]
    }
   ],
   "source": [
    "#Закодируем метки категорий - Переведем изображения в унитарный код\n",
    "train_labels = to_categorical(train_labels)\n",
    "test_labels = to_categorical(test_labels)\n",
    "print (test_labels.shape)"
   ]
  },
  {
   "cell_type": "code",
   "execution_count": 40,
   "id": "0aae0776",
   "metadata": {},
   "outputs": [
    {
     "name": "stdout",
     "output_type": "stream",
     "text": [
      "Epoch 1/5\n",
      "469/469 [==============================] - 1s 875us/step - loss: 0.3026 - accuracy: 0.9147\n",
      "Epoch 2/5\n",
      "469/469 [==============================] - 0s 868us/step - loss: 0.1320 - accuracy: 0.9618\n",
      "Epoch 3/5\n",
      "469/469 [==============================] - 0s 860us/step - loss: 0.0915 - accuracy: 0.9731\n",
      "Epoch 4/5\n",
      "469/469 [==============================] - 0s 841us/step - loss: 0.0686 - accuracy: 0.9803\n",
      "Epoch 5/5\n",
      "469/469 [==============================] - 0s 846us/step - loss: 0.0538 - accuracy: 0.9840\n",
      "Test data loss: 0.07652094215154648\n",
      "Test data accuracy: 0.9768999814987183\n",
      "Train data loss: 0.039634909480810165\n",
      "Train data accuracy: 0.989883303642273\n"
     ]
    }
   ],
   "source": [
    "#Задаем базовую архитектуру сети\n",
    "model = Sequential()\n",
    "model.add(Flatten())\n",
    "model.add(Dense(256, activation='relu'))\n",
    "model.add(Dense(10, activation='softmax'))\n",
    "\n",
    "#Настраиваем параметры сети\n",
    "model.compile(optimizer='adam',loss='categorical_crossentropy', metrics=['accuracy'])\n",
    "\n",
    "#Начинаем обучение сети\n",
    "model.fit(train_images, train_labels, epochs=5, batch_size=128)\n",
    "\n",
    "#Проверяем как модель распознает тестовый набор\n",
    "test_loss, test_accuracy = model.evaluate(\n",
    "    test_images, test_labels, verbose=0)\n",
    "print('Test data loss:', test_loss)\n",
    "print('Test data accuracy:', test_accuracy)\n",
    "#Проверяем как модель распознает контрольный набор\n",
    "train_loss, train_accuracy = model.evaluate(\n",
    "    train_images, train_labels, verbose=0)\n",
    "print('Train data loss:', train_loss)\n",
    "print('Train data accuracy:', train_accuracy)"
   ]
  },
  {
   "cell_type": "markdown",
   "id": "dd7ebc65",
   "metadata": {},
   "source": [
    "Найдем архитектуру сети, точность классификации которой будет не менее 95%."
   ]
  },
  {
   "cell_type": "code",
   "execution_count": 41,
   "id": "427f247e",
   "metadata": {},
   "outputs": [],
   "source": [
    "#Получение данных\n",
    "mnist = tf.keras.datasets.mnist\n",
    "(new_train_images, new_train_labels),(new_test_images, new_test_labels) = mnist.load_data()\n",
    "#train - тренировочные наборы для обучения\n",
    "#test - контрольный набор для тестирования"
   ]
  },
  {
   "cell_type": "code",
   "execution_count": 42,
   "id": "21548931",
   "metadata": {},
   "outputs": [],
   "source": [
    "#Нормализуем входные данные путем преобразования изоображения в массивы в бинарный интервал [0,1] из [0;255]\n",
    "new_train_images = new_train_images / 255.0\n",
    "new_test_images = new_test_images / 255.0"
   ]
  },
  {
   "cell_type": "code",
   "execution_count": 43,
   "id": "7951dec9",
   "metadata": {},
   "outputs": [
    {
     "name": "stdout",
     "output_type": "stream",
     "text": [
      "(10000, 10)\n"
     ]
    }
   ],
   "source": [
    "#Закодируем метки категорий - конструирование вектора с нулевыми элементами со значением 1 в\n",
    "# элементе, индекс которого соответствует индексу метки\n",
    "#Конвертируем из 1 измерения в 10 измерений\n",
    "new_train_labels = to_categorical(new_train_labels)\n",
    "new_test_labels = to_categorical(new_test_labels)\n",
    "print (test_labels.shape)"
   ]
  },
  {
   "cell_type": "code",
   "execution_count": 52,
   "id": "38538e56",
   "metadata": {},
   "outputs": [
    {
     "name": "stdout",
     "output_type": "stream",
     "text": [
      "Epoch 1/5\n",
      "1875/1875 [==============================] - 2s 1ms/step - loss: 0.2196 - accuracy: 0.9348\n",
      "Epoch 2/5\n",
      "1875/1875 [==============================] - 2s 1ms/step - loss: 0.0972 - accuracy: 0.9700\n",
      "Epoch 3/5\n",
      "1875/1875 [==============================] - 2s 1ms/step - loss: 0.0707 - accuracy: 0.9781\n",
      "Epoch 4/5\n",
      "1875/1875 [==============================] - 2s 1ms/step - loss: 0.0537 - accuracy: 0.9825\n",
      "Epoch 5/5\n",
      "1875/1875 [==============================] - 2s 1ms/step - loss: 0.0436 - accuracy: 0.9857\n",
      "Test data loss: 0.06952299177646637\n",
      "Test data accuracy: 0.9796000123023987\n",
      "Train data loss: 0.02395610138773918\n",
      "Train data accuracy: 0.9923666715621948\n"
     ]
    }
   ],
   "source": [
    "## Создание массивов для вывода метрик\n",
    "all_train_images = []\n",
    "all_mse_histories = []\n",
    "\n",
    "\n",
    "#Задаем базовую архитектуру сети\n",
    "model = Sequential()\n",
    "model.add(Flatten())\n",
    "model.add(Dense(512, activation='relu'))\n",
    "model.add(Dropout(0.2)) #Случайно отключает нейроны в фазе обучения\n",
    "model.add(Dense(10, activation='softmax'))\n",
    "\n",
    "#Настраиваем параметры сети\n",
    "model.compile(optimizer='Adam',loss='categorical_crossentropy', metrics=['accuracy'])\n",
    "\n",
    "#Начинаем обучение сети\n",
    "history = model.fit(new_train_images, new_train_labels, epochs=5, batch_size=32)\n",
    "\n",
    "#Проверяем как модель распознает тестовый набор\n",
    "test_loss, test_accuracy = model.evaluate(\n",
    "    new_test_images, new_test_labels, verbose=0)\n",
    "print('Test data loss:', test_loss)\n",
    "print('Test data accuracy:', test_accuracy)\n",
    "#Проверяем как модель распознает контрольный набор\n",
    "train_loss, train_accuracy = model.evaluate(\n",
    "    new_train_images, new_train_labels, verbose=0)\n",
    "print('Train data loss:', train_loss)\n",
    "print('Train data accuracy:', train_accuracy)"
   ]
  },
  {
   "cell_type": "markdown",
   "id": "9b0c18e9",
   "metadata": {},
   "source": [
    "Напишем функцию, которая позволит загружать пользовательское изображение не из датасета"
   ]
  },
  {
   "cell_type": "code",
   "execution_count": 45,
   "id": "a7e96dc0",
   "metadata": {},
   "outputs": [],
   "source": [
    "#Импорт бибилиотек\n",
    "import requests\n",
    "import numpy as np\n",
    "\n",
    "from PIL import Image\n",
    "from io import BytesIO\n",
    "\n",
    "import matplotlib.pyplot as plt\n",
    "\n",
    "import tensorflow as tf\n",
    "from tensorflow.keras.utils import to_categorical\n",
    "from tensorflow.keras.datasets import mnist\n",
    "from tensorflow.keras.layers import Dense, Activation, Flatten, Dropout\n",
    "from tensorflow.keras.models import Sequential"
   ]
  },
  {
   "cell_type": "code",
   "execution_count": 46,
   "id": "72b3f227",
   "metadata": {},
   "outputs": [],
   "source": [
    "#Зададим размеры изображения и получим произведения элементов для reshape\n",
    "img_size = (28, 28)\n",
    "img_size_flat = np.prod(img_size)"
   ]
  },
  {
   "cell_type": "code",
   "execution_count": 47,
   "id": "381e4b2a",
   "metadata": {},
   "outputs": [],
   "source": [
    "# Загрузим данные\n",
    "(train_images, train_labels),(test_images, test_labels) = mnist.load_data()\n",
    "\n",
    "# Переведем данные в формат с плавающей запятой, поскольку они являютстя целыми числами,\n",
    "#изменим форму матрицы, чтобы она была в одну строку (reshape) и проведем нормализацию, поделив на 255\n",
    "train_images = train_images.reshape(-1, img_size_flat).astype('float32') / 255\n",
    "test_images = test_images.reshape(-1, img_size_flat).astype('float32') / 255\n",
    "\n",
    "# Переведем изображения в унитарный код\n",
    "train_labels = to_categorical(train_labels)\n",
    "test_labels = to_categorical(test_labels)"
   ]
  },
  {
   "cell_type": "code",
   "execution_count": 48,
   "id": "b6628ac3",
   "metadata": {},
   "outputs": [
    {
     "name": "stdout",
     "output_type": "stream",
     "text": [
      "Epoch 1/10\n",
      "469/469 [==============================] - 1s 1ms/step - loss: 0.3065 - accuracy: 0.9151 - val_loss: 0.1617 - val_accuracy: 0.9524\n",
      "Epoch 2/10\n",
      "469/469 [==============================] - 0s 1ms/step - loss: 0.1324 - accuracy: 0.9613 - val_loss: 0.1106 - val_accuracy: 0.9670\n",
      "Epoch 3/10\n",
      "469/469 [==============================] - 0s 958us/step - loss: 0.0893 - accuracy: 0.9742 - val_loss: 0.0892 - val_accuracy: 0.9726\n",
      "Epoch 4/10\n",
      "469/469 [==============================] - 0s 946us/step - loss: 0.0657 - accuracy: 0.9811 - val_loss: 0.0745 - val_accuracy: 0.9774\n",
      "Epoch 5/10\n",
      "469/469 [==============================] - 0s 936us/step - loss: 0.0502 - accuracy: 0.9855 - val_loss: 0.0717 - val_accuracy: 0.9779\n",
      "Epoch 6/10\n",
      "469/469 [==============================] - 0s 945us/step - loss: 0.0389 - accuracy: 0.9891 - val_loss: 0.0688 - val_accuracy: 0.9793\n",
      "Epoch 7/10\n",
      "469/469 [==============================] - 0s 960us/step - loss: 0.0311 - accuracy: 0.9913 - val_loss: 0.0674 - val_accuracy: 0.9794\n",
      "Epoch 8/10\n",
      "469/469 [==============================] - 0s 947us/step - loss: 0.0251 - accuracy: 0.9931 - val_loss: 0.0675 - val_accuracy: 0.9788\n",
      "Epoch 9/10\n",
      "469/469 [==============================] - 0s 1000us/step - loss: 0.0190 - accuracy: 0.9952 - val_loss: 0.0659 - val_accuracy: 0.9802\n",
      "Epoch 10/10\n",
      "469/469 [==============================] - 0s 980us/step - loss: 0.0150 - accuracy: 0.9963 - val_loss: 0.0669 - val_accuracy: 0.9787\n",
      "Test data loss: 0.06686843186616898\n",
      "Test data accuracy: 0.9786999821662903\n",
      "Train data loss: 0.010907994583249092\n",
      "Train data accuracy: 0.9981666803359985\n"
     ]
    }
   ],
   "source": [
    "#Задаем базовую архитектуру сети\n",
    "model = Sequential()\n",
    "model.add(Flatten())\n",
    "model.add(Dense(256, activation='relu'))\n",
    "model.add(Dense(10, activation='softmax'))\n",
    "\n",
    "#Настраиваем параметры сети\n",
    "model.compile(optimizer='adam',loss='categorical_crossentropy', metrics=['accuracy'])\n",
    "\n",
    "#Начинаем обучение сети\n",
    "model.fit(train_images, train_labels, epochs=10, batch_size=128, validation_data=(test_images, test_labels))\n",
    "\n",
    "#Проверяем как модель распознает тестовый набор\n",
    "test_loss, test_accuracy = model.evaluate(test_images, test_labels, verbose=0)\n",
    "print('Test data loss:', test_loss)\n",
    "print('Test data accuracy:', test_accuracy)\n",
    "#Проверяем как модель распознает контрольный набор\n",
    "train_loss, train_accuracy = model.evaluate(train_images, train_labels, verbose=0)\n",
    "print('Train data loss:', train_loss)\n",
    "print('Train data accuracy:', train_accuracy)"
   ]
  },
  {
   "cell_type": "code",
   "execution_count": 49,
   "id": "a9908ee8",
   "metadata": {},
   "outputs": [],
   "source": [
    "# Функция получения изображения и его преобразования для дальнейшей работы\n",
    "# url - ссылка на изображение\n",
    "# target_size - размер изображения, преобразуем до 28х28 пикселей\n",
    "# convert_to='L' - преобразование цвета изображения на оттенки серого\n",
    "def get_image(url, target_size=(img_size), convert_to='L'):\n",
    "    if url.lower().startswith('http'):\n",
    "        r = requests.get(url)\n",
    "        url = BytesIO(r.content)\n",
    "    img = (Image.open(url).convert(convert_to).resize(target_size))\n",
    "    return np.array(img).reshape(-1, np.prod(target_size))\n",
    "\n",
    "def predict_digit(img, model):\n",
    "    return model.predict(img).argmax() "
   ]
  },
  {
   "cell_type": "code",
   "execution_count": 50,
   "id": "f9126be7",
   "metadata": {},
   "outputs": [
    {
     "name": "stdout",
     "output_type": "stream",
     "text": [
      "3\n"
     ]
    },
    {
     "data": {
      "image/png": "[encoded data removed]",
      "text/plain": [
       "<Figure size 432x288 with 1 Axes>"
      ]
     },
     "metadata": {
      "needs_background": "light"
     },
     "output_type": "display_data"
    }
   ],
   "source": [
    "#Загрузим свою картинку и подадим ее на вход обученной модели\n",
    "img = get_image(r\"C:\\Users\\zazah\\sii\\lab4\\3.png\")\n",
    "#Узнаем предсказание для загруженного нами изображения в уже обученную модель\n",
    "predict = predict_digit(img, model)\n",
    "plt.imshow(img.reshape(img_size), cmap='gray')\n",
    "print(predict)"
   ]
  },
  {
   "cell_type": "markdown",
   "id": "9bd04a2f",
   "metadata": {},
   "source": [
    "## Вывод\n",
    "\n",
    "В результате выполнения лабораторной работы можно сделать вывод, что для задачи анализа изображения наиболее эффективен\n",
    "анализатор Adam, при использовании других оптимизаторов потери возрастают, а точность снижается. Также была реализована функция, которая выполняет загрузку пользовательского изображения с компьютера пользователя"
   ]
  }
 ],
 "metadata": {
  "kernelspec": {
   "display_name": "Python 3 (ipykernel)",
   "language": "python",
   "name": "python3"
  },
  "language_info": {
   "codemirror_mode": {
    "name": "ipython",
    "version": 3
   },
   "file_extension": ".py",
   "mimetype": "text/x-python",
   "name": "python",
   "nbconvert_exporter": "python",
   "pygments_lexer": "ipython3",
   "version": "3.10.2"
  }
 },
 "nbformat": 4,
 "nbformat_minor": 5
}

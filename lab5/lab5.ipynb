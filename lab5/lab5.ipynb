{
 "cells": [
  {
   "cell_type": "markdown",
   "id": "e305852c",
   "metadata": {},
   "source": [
    "# Лабораторная работа 5\n",
    "\n",
    "   по теме\n",
    "                 \n",
    "   **Распознавание объектов на фотографиях**\n",
    "   \n",
    "   ****\n",
    "\n",
    "   Выполнил студент\n",
    "\n",
    "   Группы БСТ1801\n",
    "\n",
    "   Харатишвили Заза"
   ]
  },
  {
   "cell_type": "code",
   "execution_count": 18,
   "id": "3825c28d",
   "metadata": {},
   "outputs": [],
   "source": [
    "#Импорты\n",
    "from keras.datasets import cifar10\n",
    "from keras.models import Model\n",
    "from keras.layers import Input, Convolution2D, MaxPooling2D, Dense, Dropout, Flatten\n",
    "\n",
    "from tensorflow.keras.utils import to_categorical\n",
    "import numpy as np\n",
    "\n",
    "from keras.utils import np_utils"
   ]
  },
  {
   "cell_type": "code",
   "execution_count": 19,
   "id": "c0defa43",
   "metadata": {},
   "outputs": [],
   "source": [
    "batch_size = 32 # на каждой итерации одновременно обрабатываем 32 обучающих образца\n",
    "num_epochs = 5 # количество итераций\n",
    "kernel_size = 3 # размер ядра в свертывающих слоях\n",
    "pool_size = 2 # размер подвыборки в слоях подвыборки\n",
    "conv_depth_1 = 32 # количество ядер в свертывающих слоях\n",
    "conv_depth_2 = 64 # увеличиваем в два раза после слоя подвыборки \n",
    "drop_prob_1 = 0.25 # убираем нейроны после слоя подвыборки с вероятностью 0.25\n",
    "drop_prob_2 = 0.5 # убираем нейроны после полносвязного слоя с вероятностью 0.5\n",
    "hidden_size = 512 # количество нейронов в полносвязном слое"
   ]
  },
  {
   "cell_type": "code",
   "execution_count": 24,
   "id": "314a4dab",
   "metadata": {},
   "outputs": [],
   "source": [
    "(X_train, y_train), (X_test, y_test) = cifar10.load_data() # получаем данные CIFAR-10 \n",
    "\n",
    "# 50000 данных для обучения, 10000 для тестирования, 10 классов картинок\n",
    "num_train, depth, height, width = X_train.shape\n",
    "num_test = X_test.shape[0]\n",
    "num_classes = np.unique(y_train).shape[0]\n",
    "\n",
    "# Приведем к виду с плавающей точкой\n",
    "X_train = X_train.astype('float32') \n",
    "X_test = X_test.astype('float32')\n",
    "# Преобразуем интетнсивность пикселей до [0 ,1]\n",
    "X_train /= np.max(X_train)\n",
    "X_test /= np.max(X_train) #делим на обучающее, тк нельзя показывать алгоритмам тестовые данные до окончания \n",
    "# процесса обучения\n",
    "\n",
    "Y_train = to_categorical(y_train, num_classes)\n",
    "Y_test = to_categorical(y_test, num_classes)"
   ]
  },
  {
   "cell_type": "code",
   "execution_count": 13,
   "id": "3dc1c671",
   "metadata": {},
   "outputs": [
    {
     "name": "stdout",
     "output_type": "stream",
     "text": [
      "Epoch 1/5\n",
      "1407/1407 [==============================] - 51s 36ms/step - loss: 1.5254 - accuracy: 0.4466 - val_loss: 1.1101 - val_accuracy: 0.6120\n",
      "Epoch 2/5\n",
      "1407/1407 [==============================] - 52s 37ms/step - loss: 1.1210 - accuracy: 0.6003 - val_loss: 0.9594 - val_accuracy: 0.6646\n",
      "Epoch 3/5\n",
      "1407/1407 [==============================] - 51s 37ms/step - loss: 0.9691 - accuracy: 0.6581 - val_loss: 0.8483 - val_accuracy: 0.7046\n",
      "Epoch 4/5\n",
      "1407/1407 [==============================] - 52s 37ms/step - loss: 0.8792 - accuracy: 0.6908 - val_loss: 0.7852 - val_accuracy: 0.7324\n",
      "Epoch 5/5\n",
      "1407/1407 [==============================] - 52s 37ms/step - loss: 0.8114 - accuracy: 0.7133 - val_loss: 0.7542 - val_accuracy: 0.7430\n",
      "313/313 [==============================] - 2s 8ms/step - loss: 132.9777 - accuracy: 0.5315\n"
     ]
    },
    {
     "data": {
      "text/plain": [
       "[132.9777069091797, 0.531499981880188]"
      ]
     },
     "execution_count": 13,
     "metadata": {},
     "output_type": "execute_result"
    }
   ],
   "source": [
    "inp = Input(shape=(depth, height, width))\n",
    "# Conv [32] -> Conv [32] -> Pool (with dropout on the pooling layer)\n",
    "conv_1 = Convolution2D(conv_depth_1, (kernel_size, kernel_size), padding='same', activation='relu')(inp)\n",
    "conv_2 = Convolution2D(conv_depth_1, (kernel_size, kernel_size), padding='same', activation='relu')(conv_1)\n",
    "pool_1 = MaxPooling2D(pool_size=(pool_size, pool_size), padding='same')(conv_2)\n",
    "drop_1 = Dropout(drop_prob_1)(pool_1)\n",
    "# Conv [64] -> Conv [64] -> Pool (with dropout on the pooling layer)\n",
    "conv_3 = Convolution2D(conv_depth_2, (kernel_size, kernel_size), padding='same', activation='relu')(drop_1)\n",
    "conv_4 = Convolution2D(conv_depth_2, (kernel_size, kernel_size), padding='same', activation='relu')(conv_3)\n",
    "pool_2 = MaxPooling2D(pool_size=(pool_size, pool_size), padding='same')(conv_4)\n",
    "drop_2 = Dropout(drop_prob_1)(pool_2)\n",
    "# Now flatten to 1D, apply FC -> ReLU (with dropout) -> softmax\n",
    "flat = Flatten()(drop_2) # Трансформируем в одномерный вектор\n",
    "hidden = Dense(hidden_size, activation='relu')(flat)\n",
    "drop_3 = Dropout(drop_prob_2)(hidden)\n",
    "out = Dense(num_classes, activation='softmax')(drop_3)\n",
    "\n",
    "model = Model(inp, out) # Укажем слой входа и слой выхода\n",
    "\n",
    "model.compile(loss='categorical_crossentropy', optimizer='adam', metrics=['accuracy'])\n",
    "\n",
    "model.fit(X_train, Y_train, batch_size=batch_size, epochs=num_epochs,\n",
    "          verbose=1, validation_split=0.1) # Оставляем 10 процентов для тестирования\n",
    "model.evaluate(X_test, Y_test, verbose=1) # Оценим обученную модель на тестовых данных"
   ]
  },
  {
   "cell_type": "markdown",
   "id": "24bb9eef",
   "metadata": {},
   "source": [
    "Исследуем сеть без слоя Dropout"
   ]
  },
  {
   "cell_type": "code",
   "execution_count": 27,
   "id": "2bd8e2c8",
   "metadata": {},
   "outputs": [
    {
     "name": "stdout",
     "output_type": "stream",
     "text": [
      "Epoch 1/5\n",
      "1407/1407 [==============================] - 73s 52ms/step - loss: 1.4598 - accuracy: 0.4678 - val_loss: 1.0523 - val_accuracy: 0.6272\n",
      "Epoch 2/5\n",
      "1407/1407 [==============================] - 72s 51ms/step - loss: 1.0188 - accuracy: 0.6425 - val_loss: 0.8652 - val_accuracy: 0.6956\n",
      "Epoch 3/5\n",
      "1407/1407 [==============================] - 71s 50ms/step - loss: 0.8220 - accuracy: 0.7119 - val_loss: 0.7840 - val_accuracy: 0.7302\n",
      "Epoch 4/5\n",
      "1407/1407 [==============================] - 71s 51ms/step - loss: 0.6785 - accuracy: 0.7636 - val_loss: 0.7252 - val_accuracy: 0.7540\n",
      "Epoch 5/5\n",
      "1407/1407 [==============================] - 71s 51ms/step - loss: 0.5434 - accuracy: 0.8091 - val_loss: 0.7717 - val_accuracy: 0.7404\n",
      "313/313 [==============================] - 3s 10ms/step - loss: 180.0096 - accuracy: 0.5340\n"
     ]
    },
    {
     "data": {
      "text/plain": [
       "[180.0095977783203, 0.5339999794960022]"
      ]
     },
     "execution_count": 27,
     "metadata": {},
     "output_type": "execute_result"
    }
   ],
   "source": [
    "inp = Input(shape=(depth, height, width))\n",
    "# Conv [32] -> Conv [32] -> Pool\n",
    "conv_1 = Convolution2D(conv_depth_1, (kernel_size, kernel_size), padding='same', activation='relu')(inp)\n",
    "conv_2 = Convolution2D(conv_depth_1, (kernel_size, kernel_size), padding='same', activation='relu')(conv_1)\n",
    "pool_1 = MaxPooling2D(pool_size=(pool_size, pool_size), padding='same')(conv_2)\n",
    "\n",
    "# Conv [64] -> Conv [64] -> Pool\n",
    "conv_3 = Convolution2D(conv_depth_2, (kernel_size, kernel_size), padding='same', activation='relu')(pool_1)\n",
    "conv_4 = Convolution2D(conv_depth_2, (kernel_size, kernel_size), padding='same', activation='relu')(conv_3)\n",
    "pool_2 = MaxPooling2D(pool_size=(pool_size, pool_size), padding='same')(conv_4)\n",
    "\n",
    "# Now flatten to 1D, apply FC -> ReLU -> softmax\n",
    "flat = Flatten()(conv_4) # Трансформируем в одномерный вектор\n",
    "hidden = Dense(hidden_size, activation='relu')(flat)\n",
    "drop_3 = Dropout(drop_prob_2)(hidden)\n",
    "out = Dense(num_classes, activation='softmax')(drop_3)\n",
    "\n",
    "model = Model(inp, out) # Укажем слой входа и слой выхода\n",
    "\n",
    "model.compile(loss='categorical_crossentropy', optimizer='adam', metrics=['accuracy'])\n",
    "\n",
    "model.fit(X_train, Y_train, batch_size=batch_size, epochs=num_epochs,\n",
    "          verbose=1, validation_split=0.1) # Оставляем 10 процентов для тестирования\n",
    "model.evaluate(X_test, Y_test, verbose=1) # Оценим обученную модель на тестовых данных"
   ]
  },
  {
   "cell_type": "markdown",
   "id": "d2acc916",
   "metadata": {},
   "source": [
    "Уменьшим размер ядра свертки в два раза"
   ]
  },
  {
   "cell_type": "code",
   "execution_count": 29,
   "id": "b18966d7",
   "metadata": {},
   "outputs": [
    {
     "name": "stdout",
     "output_type": "stream",
     "text": [
      "Epoch 1/5\n",
      "1407/1407 [==============================] - 40s 28ms/step - loss: 1.5656 - accuracy: 0.4236 - val_loss: 1.1850 - val_accuracy: 0.5822\n",
      "Epoch 2/5\n",
      "1407/1407 [==============================] - 40s 28ms/step - loss: 1.1669 - accuracy: 0.5827 - val_loss: 1.0015 - val_accuracy: 0.6494\n",
      "Epoch 3/5\n",
      "1407/1407 [==============================] - 39s 28ms/step - loss: 1.0074 - accuracy: 0.6438 - val_loss: 0.8932 - val_accuracy: 0.6952\n",
      "Epoch 4/5\n",
      "1407/1407 [==============================] - 39s 28ms/step - loss: 0.9041 - accuracy: 0.6825 - val_loss: 0.7929 - val_accuracy: 0.7228\n",
      "Epoch 5/5\n",
      "1407/1407 [==============================] - 39s 27ms/step - loss: 0.8307 - accuracy: 0.7069 - val_loss: 0.7526 - val_accuracy: 0.7400\n",
      "313/313 [==============================] - 2s 6ms/step - loss: 113.5296 - accuracy: 0.5271\n"
     ]
    },
    {
     "data": {
      "text/plain": [
       "[113.52964782714844, 0.5271000266075134]"
      ]
     },
     "execution_count": 29,
     "metadata": {},
     "output_type": "execute_result"
    }
   ],
   "source": [
    "conv_depth_1 = 16 # количество ядер в свертывающих слоях\n",
    "\n",
    "inp = Input(shape=(depth, height, width))\n",
    "# Conv [32] -> Conv [32] -> Pool (with dropout on the pooling layer)\n",
    "conv_1 = Convolution2D(conv_depth_1, (kernel_size, kernel_size), padding='same', activation='relu')(inp)\n",
    "conv_2 = Convolution2D(conv_depth_1, (kernel_size, kernel_size), padding='same', activation='relu')(conv_1)\n",
    "pool_1 = MaxPooling2D(pool_size=(pool_size, pool_size), padding='same')(conv_2)\n",
    "drop_1 = Dropout(drop_prob_1)(pool_1)\n",
    "# Conv [64] -> Conv [64] -> Pool (with dropout on the pooling layer)\n",
    "conv_3 = Convolution2D(conv_depth_2, (kernel_size, kernel_size), padding='same', activation='relu')(drop_1)\n",
    "conv_4 = Convolution2D(conv_depth_2, (kernel_size, kernel_size), padding='same', activation='relu')(conv_3)\n",
    "pool_2 = MaxPooling2D(pool_size=(pool_size, pool_size), padding='same')(conv_4)\n",
    "drop_2 = Dropout(drop_prob_1)(pool_2)\n",
    "# Now flatten to 1D, apply FC -> ReLU (with dropout) -> softmax\n",
    "flat = Flatten()(drop_2) # Трансформируем в одномерный вектор\n",
    "hidden = Dense(hidden_size, activation='relu')(flat)\n",
    "drop_3 = Dropout(drop_prob_2)(hidden)\n",
    "out = Dense(num_classes, activation='softmax')(drop_3)\n",
    "\n",
    "model = Model(inp, out) # Укажем слой входа и слой выхода\n",
    "\n",
    "model.compile(loss='categorical_crossentropy', optimizer='adam', metrics=['accuracy'])\n",
    "\n",
    "model.fit(X_train, Y_train, batch_size=batch_size, epochs=num_epochs,\n",
    "          verbose=1, validation_split=0.1) # Оставляем 10 процентов для тестирования\n",
    "model.evaluate(X_test, Y_test, verbose=1) # Оценим обученную модель на тестовых данных"
   ]
  },
  {
   "cell_type": "markdown",
   "id": "4a76a7d7",
   "metadata": {},
   "source": [
    "Увеличим размер ядра свертки в два раза"
   ]
  },
  {
   "cell_type": "code",
   "execution_count": 30,
   "id": "9bac18fc",
   "metadata": {},
   "outputs": [
    {
     "name": "stdout",
     "output_type": "stream",
     "text": [
      "Epoch 1/5\n",
      "1407/1407 [==============================] - 83s 59ms/step - loss: 1.5374 - accuracy: 0.4342 - val_loss: 1.1313 - val_accuracy: 0.6002\n",
      "Epoch 2/5\n",
      "1407/1407 [==============================] - 84s 60ms/step - loss: 1.1463 - accuracy: 0.5920 - val_loss: 0.9456 - val_accuracy: 0.6706\n",
      "Epoch 3/5\n",
      "1407/1407 [==============================] - 85s 60ms/step - loss: 0.9829 - accuracy: 0.6517 - val_loss: 0.8523 - val_accuracy: 0.7018\n",
      "Epoch 4/5\n",
      "1407/1407 [==============================] - 85s 61ms/step - loss: 0.8866 - accuracy: 0.6872 - val_loss: 0.7783 - val_accuracy: 0.7288\n",
      "Epoch 5/5\n",
      "1407/1407 [==============================] - 85s 61ms/step - loss: 0.7949 - accuracy: 0.7231 - val_loss: 0.7309 - val_accuracy: 0.7478\n",
      "313/313 [==============================] - 4s 11ms/step - loss: 114.0328 - accuracy: 0.5453\n"
     ]
    },
    {
     "data": {
      "text/plain": [
       "[114.03275299072266, 0.5453000068664551]"
      ]
     },
     "execution_count": 30,
     "metadata": {},
     "output_type": "execute_result"
    }
   ],
   "source": [
    "conv_depth_1 = 64 # количество ядер в свертывающих слоях\n",
    "\n",
    "inp = Input(shape=(depth, height, width))\n",
    "# Conv [32] -> Conv [32] -> Pool (with dropout on the pooling layer)\n",
    "conv_1 = Convolution2D(conv_depth_1, (kernel_size, kernel_size), padding='same', activation='relu')(inp)\n",
    "conv_2 = Convolution2D(conv_depth_1, (kernel_size, kernel_size), padding='same', activation='relu')(conv_1)\n",
    "pool_1 = MaxPooling2D(pool_size=(pool_size, pool_size), padding='same')(conv_2)\n",
    "drop_1 = Dropout(drop_prob_1)(pool_1)\n",
    "# Conv [64] -> Conv [64] -> Pool (with dropout on the pooling layer)\n",
    "conv_3 = Convolution2D(conv_depth_2, (kernel_size, kernel_size), padding='same', activation='relu')(drop_1)\n",
    "conv_4 = Convolution2D(conv_depth_2, (kernel_size, kernel_size), padding='same', activation='relu')(conv_3)\n",
    "pool_2 = MaxPooling2D(pool_size=(pool_size, pool_size), padding='same')(conv_4)\n",
    "drop_2 = Dropout(drop_prob_1)(pool_2)\n",
    "# Now flatten to 1D, apply FC -> ReLU (with dropout) -> softmax\n",
    "flat = Flatten()(drop_2) # Трансформируем в одномерный вектор\n",
    "hidden = Dense(hidden_size, activation='relu')(flat)\n",
    "drop_3 = Dropout(drop_prob_2)(hidden)\n",
    "out = Dense(num_classes, activation='softmax')(drop_3)\n",
    "\n",
    "model = Model(inp, out) # Укажем слой входа и слой выхода\n",
    "\n",
    "model.compile(loss='categorical_crossentropy', optimizer='adam', metrics=['accuracy'])\n",
    "\n",
    "model.fit(X_train, Y_train, batch_size=batch_size, epochs=num_epochs,\n",
    "          verbose=1, validation_split=0.1) # Оставляем 10 процентов для тестирования\n",
    "model.evaluate(X_test, Y_test, verbose=1) # Оценим обученную модель на тестовых данных"
   ]
  },
  {
   "cell_type": "code",
   "execution_count": null,
   "id": "f719129e",
   "metadata": {},
   "outputs": [],
   "source": []
  }
 ],
 "metadata": {
  "kernelspec": {
   "display_name": "Python 3 (ipykernel)",
   "language": "python",
   "name": "python3"
  },
  "language_info": {
   "codemirror_mode": {
    "name": "ipython",
    "version": 3
   },
   "file_extension": ".py",
   "mimetype": "text/x-python",
   "name": "python",
   "nbconvert_exporter": "python",
   "pygments_lexer": "ipython3",
   "version": "3.10.2"
  }
 },
 "nbformat": 4,
 "nbformat_minor": 5
}

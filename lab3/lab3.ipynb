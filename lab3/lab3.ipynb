{
 "cells": [
  {
   "cell_type": "markdown",
   "id": "78eb1dda",
   "metadata": {},
   "source": [
    "# Лабораторная работа 3\n",
    "\n",
    "   по теме\n",
    "                 \n",
    "   **Регрессионная модель изменения цен на дома в Бостоне**\n",
    "\n",
    "   Выполнил студент\n",
    "\n",
    "   Группы БСТ1801\n",
    "\n",
    "   Харатишвили Заза"
   ]
  },
  {
   "cell_type": "code",
   "execution_count": 9,
   "id": "ef7c1866",
   "metadata": {},
   "outputs": [],
   "source": [
    "## Импорт необходимых для работы библиотек\n",
    "import numpy as np\n",
    "from tensorflow.keras.layers import Dense\n",
    "from tensorflow.keras.models import Sequential\n",
    "from tensorflow.keras.utils import to_categorical\n",
    "from tensorflow.keras.datasets import boston_housing\n",
    "import matplotlib.pyplot as plt"
   ]
  },
  {
   "cell_type": "code",
   "execution_count": 10,
   "id": "b1aca1e0",
   "metadata": {},
   "outputs": [
    {
     "name": "stdout",
     "output_type": "stream",
     "text": [
      "(404, 13)\n",
      "(102, 13)\n",
      "[ 7.2 18.8 19.  27.  22.2 24.5 31.2 22.9 20.5 23.2 18.6 14.5 17.8 50.\n",
      " 20.8 24.3 24.2 19.8 19.1 22.7 12.  10.2 20.  18.5 20.9 23.  27.5 30.1\n",
      "  9.5 22.  21.2 14.1 33.1 23.4 20.1  7.4 15.4 23.8 20.1 24.5 33.  28.4\n",
      " 14.1 46.7 32.5 29.6 28.4 19.8 20.2 25.  35.4 20.3  9.7 14.5 34.9 26.6\n",
      "  7.2 50.  32.4 21.6 29.8 13.1 27.5 21.2 23.1 21.9 13.  23.2  8.1  5.6\n",
      " 21.7 29.6 19.6  7.  26.4 18.9 20.9 28.1 35.4 10.2 24.3 43.1 17.6 15.4\n",
      " 16.2 27.1 21.4 21.5 22.4 25.  16.6 18.6 22.  42.8 35.1 21.5 36.  21.9\n",
      " 24.1 50.  26.7 25. ]\n"
     ]
    }
   ],
   "source": [
    "(train_data, train_targets), (test_data, test_targets) = boston_housing.load_data()\n",
    "\n",
    "## Вывод данных из библиотек\n",
    "print(train_data.shape)\n",
    "print(test_data.shape)\n",
    "print(test_targets)\n",
    "\n",
    "## Нормализация данных\n",
    "mean = train_data.mean(axis=0)\n",
    "train_data -= mean\n",
    "std = train_data.std(axis=0)\n",
    "\n",
    "train_data /= std\n",
    "test_data -= mean\n",
    "test_data /= std"
   ]
  },
  {
   "cell_type": "code",
   "execution_count": 11,
   "id": "ebfa4013",
   "metadata": {},
   "outputs": [],
   "source": [
    "## Определяем функцию построения модели скалярной регрессии\n",
    "\n",
    "def build_model():\n",
    "    model = Sequential()\n",
    "    model.add(Dense(64, activation='relu', input_shape=(train_data.shape[1],)))\n",
    "    model.add(Dense(64, activation='relu'))\n",
    "    model.add(Dense(1))\n",
    "    model.compile(optimizer='rmsprop', loss='mse', metrics=['mae'])\n",
    "    return model\n",
    "\n",
    "#Метрика потерь: \n",
    "#Среднеквадратичная ошибка (Mean Squared Error) – \n",
    "#Среднее арифметическое (Mean) квадратов разностей \n",
    "#между предсказанными и реальными значениями\n",
    "\n",
    "#Дополнительная метрика:\n",
    "#средняя абсолютная ошибка (Mean Absolute Error) -\n",
    "#рассчитывается как среднее значение ошибок прогноза"
   ]
  },
  {
   "cell_type": "code",
   "execution_count": 21,
   "id": "b891fecb",
   "metadata": {
    "scrolled": true
   },
   "outputs": [
    {
     "name": "stdout",
     "output_type": "stream",
     "text": [
      "Номер прогона:  #0\n",
      "Номер прогона:  #1\n",
      "Номер прогона:  #2\n",
      "Номер прогона:  #3\n",
      "{'loss': [170.29302978515625, 25.817232131958008, 19.04361343383789, 15.916847229003906, 14.156082153320312, 13.708484649658203, 12.643878936767578, 11.732172966003418, 11.774263381958008, 11.114031791687012], 'mae': [9.571956634521484, 3.5010716915130615, 2.8802928924560547, 2.5768470764160156, 2.3484599590301514, 2.3179686069488525, 2.2313711643218994, 2.2495715618133545, 2.1528244018554688, 2.118034601211548]}\n",
      "Ошибки по четырем прогонам:  [1.9686448574066162, 3.011293888092041, 2.4904725551605225, 2.657377004623413]\n",
      "Средняя ошибка:  2.531947076320648\n"
     ]
    }
   ],
   "source": [
    "## Указываем количество блоков перекрестной проверки\n",
    "k = 4\n",
    "\n",
    "## Указываем данные обучения модели\n",
    "num_val_samples = len(train_data) // k\n",
    "num_epochs = 10\n",
    "all_scores = []\n",
    "\n",
    "## Вызываем модели в цикле\n",
    "for i in range(k):\n",
    "    print('Номер прогона:  #%d' % i)\n",
    "    # Подготовим тестовый прогон\n",
    "    val_data = train_data[i * num_val_samples: (i + 1) * num_val_samples]\n",
    "    val_targets = train_targets[i * num_val_samples: (i + 1) * num_val_samples]\n",
    "    \n",
    "    # Подготовим тренировочный прогон\n",
    "    partial_train_data = np.concatenate([train_data[:i * num_val_samples], train_data[(i + 1) * num_val_samples:]], axis=0)\n",
    "    partial_train_targets = np.concatenate([train_targets[:i * num_val_samples], train_targets[(i + 1) * num_val_samples:]], axis=0)\n",
    "    \n",
    "    #Строим модель\n",
    "    model = build_model()\n",
    "    \n",
    "    #Обучаем модель\n",
    "    history = model.fit(partial_train_data, partial_train_targets, epochs=num_epochs, batch_size=1, verbose=0)\n",
    "    \n",
    "    #Оценим модель на основе данных проверки\n",
    "    val_mse, val_mae = model.evaluate(val_data, val_targets, verbose=0)\n",
    "    all_scores.append(val_mae)\n",
    "    \n",
    "print(history.history)\n",
    "\n",
    "print('Ошибки по четырем прогонам: ', all_scores)\n",
    "print('Средняя ошибка: ', np.mean(all_scores))"
   ]
  },
  {
   "cell_type": "code",
   "execution_count": null,
   "id": "5f65ae5e",
   "metadata": {},
   "outputs": [],
   "source": [
    "plt.plot(range(1, len(average_mae_history) + 1), average_mae_history)\n",
    "plt.xlabel('Epochs')\n",
    "plt.ylabel('Validation MAE')\n",
    "plt.show()\n",
    "\n",
    "# Построение графиков\n",
    "plt.plot(history.history['mae'], 'g', label='(Training) MAE')\n",
    "#plt.plot(history.history['val_mean_absolute_error'], 'b', label='(Validation) MAE')\n",
    "\n",
    "plt.plot(history.history['loss'], 'b', label='(Training) MSE')\n",
    "#plt.plot(history.history['val_loss'], 'b', label='(Validation) MSE')\n",
    "plt.title('MAE and MSE')\n",
    "plt.legend()\n",
    "\n",
    "plt.show()"
   ]
  },
  {
   "cell_type": "markdown",
   "id": "93198048",
   "metadata": {},
   "source": [
    "Теперь увеличим количество эпох обучения и проанализируем полученные результаты"
   ]
  },
  {
   "cell_type": "code",
   "execution_count": 16,
   "id": "8486a406",
   "metadata": {},
   "outputs": [
    {
     "name": "stdout",
     "output_type": "stream",
     "text": [
      "Номер прогона:  #0\n",
      "Номер прогона:  #1\n",
      "Номер прогона:  #2\n",
      "Номер прогона:  #3\n"
     ]
    }
   ],
   "source": [
    "## Указываем свойства обучения модели\n",
    "num_epochs = 10\n",
    "all_mae_histories = []\n",
    "\n",
    "## Вызываем модели в цикле\n",
    "for i in range(k):\n",
    "    print('Номер прогона:  #%d' % i)\n",
    "    val_data = train_data[i * num_val_samples: (i + 1) * num_val_samples]\n",
    "    val_targets = train_targets[i * num_val_samples: (i + 1) * num_val_samples]\n",
    "    partial_train_data = np.concatenate(\n",
    "        [train_data[:i * num_val_samples],\n",
    "         train_data[(i + 1) * num_val_samples:]],\n",
    "        axis=0)\n",
    "    partial_train_targets = np.concatenate(\n",
    "        [train_targets[:i * num_val_samples],\n",
    "         train_targets[(i + 1) * num_val_samples:]],\n",
    "        axis=0)\n",
    "    model = build_model()\n",
    "    history = model.fit(partial_train_data, partial_train_targets,\n",
    "                        validation_data=(val_data, val_targets),\n",
    "                        epochs=num_epochs, batch_size=1, verbose=0)\n",
    "    mae_history = history.history['val_mae']\n",
    "    all_mae_histories.append(mae_history)"
   ]
  },
  {
   "cell_type": "code",
   "execution_count": 17,
   "id": "193c51a7",
   "metadata": {},
   "outputs": [
    {
     "data": {
      "image/png": "[encoded data removed]",
      "text/plain": [
       "<Figure size 432x288 with 1 Axes>"
      ]
     },
     "metadata": {
      "needs_background": "light"
     },
     "output_type": "display_data"
    }
   ],
   "source": [
    "average_mae_history =[\n",
    "    np.mean([x[i] for x in all_mae_histories]) for i in range(num_epochs)\n",
    "]\n",
    "import matplotlib.pyplot as plt\n",
    "plt.plot(range(1, len(average_mae_history) + 1), average_mae_history)\n",
    "plt.xlabel('Epochs')\n",
    "plt.ylabel('Validation MAE')\n",
    "plt.show()"
   ]
  },
  {
   "cell_type": "markdown",
   "id": "3609ed5d",
   "metadata": {},
   "source": [
    "Теперь уменьшим количество эпох обучения и проанализируем полученные результаты"
   ]
  },
  {
   "cell_type": "code",
   "execution_count": null,
   "id": "d371802d",
   "metadata": {},
   "outputs": [],
   "source": []
  }
 ],
 "metadata": {
  "kernelspec": {
   "display_name": "Python 3 (ipykernel)",
   "language": "python",
   "name": "python3"
  },
  "language_info": {
   "codemirror_mode": {
    "name": "ipython",
    "version": 3
   },
   "file_extension": ".py",
   "mimetype": "text/x-python",
   "name": "python",
   "nbconvert_exporter": "python",
   "pygments_lexer": "ipython3",
   "version": "3.10.2"
  }
 },
 "nbformat": 4,
 "nbformat_minor": 5
}

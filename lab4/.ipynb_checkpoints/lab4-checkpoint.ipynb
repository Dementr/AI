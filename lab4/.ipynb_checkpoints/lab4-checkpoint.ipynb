{
 "cells": [
  {
   "cell_type": "markdown",
   "id": "d9b00585",
   "metadata": {},
   "source": [
    "# Лабораторная работа 4\n",
    "\n",
    "   по теме\n",
    "                 \n",
    "   **Распознавание рукописных символов**\n",
    "   \n",
    "   ****\n",
    "\n",
    "   Выполнил студент\n",
    "\n",
    "   Группы БСТ1801\n",
    "\n",
    "   Харатишвили Заза"
   ]
  },
  {
   "cell_type": "code",
   "execution_count": 29,
   "id": "a6413b38",
   "metadata": {},
   "outputs": [],
   "source": [
    "#Импорт бибилиотек и методов\n",
    "import tensorflow as tf\n",
    "\n",
    "import matplotlib.pyplot as plt\n",
    "\n",
    "from tensorflow.keras.utils import to_categorical\n",
    "\n",
    "from tensorflow.keras.layers import Dense, Activation, Flatten, Dropout\n",
    "from tensorflow.keras.models import Sequential"
   ]
  },
  {
   "cell_type": "code",
   "execution_count": 30,
   "id": "5b79e1c3",
   "metadata": {},
   "outputs": [],
   "source": [
    "#Получение данных\n",
    "mnist = tf.keras.datasets.mnist\n",
    "(train_images, train_labels),(test_images, test_labels) = mnist.load_data()\n",
    "#train - тренировочные наборы для обучения\n",
    "#test - контрольный набор для тестирования"
   ]
  },
  {
   "cell_type": "code",
   "execution_count": 31,
   "id": "76437de2",
   "metadata": {},
   "outputs": [
    {
     "data": {
      "image/png": "[encoded data removed]",
      "text/plain": [
       "<Figure size 432x288 with 1 Axes>"
      ]
     },
     "metadata": {
      "needs_background": "light"
     },
     "output_type": "display_data"
    },
    {
     "name": "stdout",
     "output_type": "stream",
     "text": [
      "0\n"
     ]
    }
   ],
   "source": [
    "#Сравнение текстового изображения с его меткой для проверки корректности\n",
    "plt.imshow(train_images[1],cmap=plt.cm.binary)\n",
    "plt.show()\n",
    "print(train_labels[1])"
   ]
  },
  {
   "cell_type": "code",
   "execution_count": 33,
   "id": "43765928",
   "metadata": {},
   "outputs": [],
   "source": [
    "#Нормализуем входные данные путем преобразования изоображения в массивы в бинарный интервал [0,1] из [0;255]\n",
    "train_images = train_images / 255.0\n",
    "test_images = test_images / 255.0"
   ]
  },
  {
   "cell_type": "code",
   "execution_count": 34,
   "id": "cb17d26a",
   "metadata": {},
   "outputs": [
    {
     "name": "stdout",
     "output_type": "stream",
     "text": [
      "(10000, 10)\n"
     ]
    }
   ],
   "source": [
    "#Закодируем метки категорий - Переведем изображения в унитарный код\n",
    "train_labels = to_categorical(train_labels)\n",
    "test_labels = to_categorical(test_labels)\n",
    "print (test_labels.shape)"
   ]
  },
  {
   "cell_type": "code",
   "execution_count": 35,
   "id": "0aae0776",
   "metadata": {},
   "outputs": [
    {
     "name": "stdout",
     "output_type": "stream",
     "text": [
      "Epoch 1/5\n",
      "469/469 [==============================] - 1s 919us/step - loss: 1.5837 - accuracy: 0.6275\n",
      "Epoch 2/5\n",
      "469/469 [==============================] - 0s 900us/step - loss: 0.6847 - accuracy: 0.8386\n",
      "Epoch 3/5\n",
      "469/469 [==============================] - 0s 894us/step - loss: 0.4759 - accuracy: 0.8779\n",
      "Epoch 4/5\n",
      "469/469 [==============================] - 0s 889us/step - loss: 0.3972 - accuracy: 0.8925\n",
      "Epoch 5/5\n",
      "469/469 [==============================] - 0s 890us/step - loss: 0.3578 - accuracy: 0.8998\n",
      "Test data loss: 0.3327396512031555\n",
      "Test data accuracy: 0.9089000225067139\n",
      "Train data loss: 0.3422086834907532\n",
      "Train data accuracy: 0.9052166938781738\n"
     ]
    }
   ],
   "source": [
    "#Задаем базовую архитектуру сети\n",
    "model = Sequential()\n",
    "model.add(Flatten())\n",
    "model.add(Dense(256, activation='relu'))\n",
    "model.add(Dense(10, activation='softmax'))\n",
    "\n",
    "#Настраиваем параметры сети \n",
    "# Функция потерь: Категориальная перекрестная энтропия - для оценки точности предсказаний\n",
    "model.compile(optimizer='adam',loss='categorical_crossentropy', metrics=['accuracy'])\n",
    "\n",
    "#Начинаем обучение сети\n",
    "model.fit(train_images, train_labels, epochs=5, batch_size=128)\n",
    "\n",
    "#Проверяем как модель распознает тестовый набор\n",
    "test_loss, test_accuracy = model.evaluate(\n",
    "    test_images, test_labels, verbose=0)\n",
    "print('Test data loss:', test_loss)\n",
    "print('Test data accuracy:', test_accuracy)\n",
    "#Проверяем как модель распознает контрольный набор\n",
    "train_loss, train_accuracy = model.evaluate(\n",
    "    train_images, train_labels, verbose=0)\n",
    "print('Train data loss:', train_loss)\n",
    "print('Train data accuracy:', train_accuracy)"
   ]
  },
  {
   "cell_type": "markdown",
   "id": "dd7ebc65",
   "metadata": {},
   "source": [
    "Найдем архитектуру сети, точность классификации которой будет не менее 95%."
   ]
  },
  {
   "cell_type": "code",
   "execution_count": 36,
   "id": "427f247e",
   "metadata": {},
   "outputs": [],
   "source": [
    "#Получение данных\n",
    "mnist = tf.keras.datasets.mnist\n",
    "(new_train_images, new_train_labels),(new_test_images, new_test_labels) = mnist.load_data()\n",
    "#train - тренировочные наборы для обучения\n",
    "#test - контрольный набор для тестирования"
   ]
  },
  {
   "cell_type": "code",
   "execution_count": 37,
   "id": "21548931",
   "metadata": {},
   "outputs": [],
   "source": [
    "#Нормализуем входные данные путем преобразования изоображения в массивы в бинарный интервал [0,1] из [0;255]\n",
    "new_train_images = new_train_images / 255.0\n",
    "new_test_images = new_test_images / 255.0"
   ]
  },
  {
   "cell_type": "code",
   "execution_count": 38,
   "id": "7951dec9",
   "metadata": {},
   "outputs": [
    {
     "name": "stdout",
     "output_type": "stream",
     "text": [
      "(10000, 10)\n"
     ]
    }
   ],
   "source": [
    "#Конвертируем из 1 измерения в 10 измерений\n",
    "new_train_labels = to_categorical(new_train_labels)\n",
    "new_test_labels = to_categorical(new_test_labels)\n",
    "print (test_labels.shape)"
   ]
  },
  {
   "cell_type": "code",
   "execution_count": 39,
   "id": "38538e56",
   "metadata": {},
   "outputs": [
    {
     "name": "stdout",
     "output_type": "stream",
     "text": [
      "Epoch 1/5\n",
      "1875/1875 [==============================] - 6s 3ms/step - loss: 0.2214 - accuracy: 0.9347\n",
      "Epoch 2/5\n",
      "1875/1875 [==============================] - 6s 3ms/step - loss: 0.0942 - accuracy: 0.9712\n",
      "Epoch 3/5\n",
      "1875/1875 [==============================] - 6s 3ms/step - loss: 0.0683 - accuracy: 0.9786\n",
      "Epoch 4/5\n",
      "1875/1875 [==============================] - 6s 3ms/step - loss: 0.0533 - accuracy: 0.9827\n",
      "Epoch 5/5\n",
      "1875/1875 [==============================] - 6s 3ms/step - loss: 0.0426 - accuracy: 0.9863\n",
      "Test data loss: 0.06452581286430359\n",
      "Test data accuracy: 0.982200026512146\n",
      "Train data loss: 0.019632963463664055\n",
      "Train data accuracy: 0.9938333630561829\n"
     ]
    }
   ],
   "source": [
    "#Задаем базовую архитектуру сети\n",
    "model = Sequential()\n",
    "model.add(Flatten())\n",
    "model.add(Dense(512, activation='relu'))\n",
    "model.add(Dropout(0.2)) #Случайно отключает нейроны в фазе обучения\n",
    "model.add(Dense(10, activation='softmax'))\n",
    "\n",
    "#Настраиваем параметры сети\n",
    "# SGD - 0.2/0.94\n",
    "# RMSprop - 0.035/0.99\n",
    "# Adagrad - 0.35/0.90\n",
    "# Adadelta - 1.15/0.79\n",
    "# Adam - 0.021/0.99\n",
    "# Adamax - 0.06/0.98\n",
    "# Nadam - 0.022/0.99\n",
    "model.compile(optimizer='Nadam',loss='categorical_crossentropy', metrics=['accuracy'])\n",
    "\n",
    "#Начинаем обучение сети\n",
    "history = model.fit(new_train_images, new_train_labels, epochs=5, batch_size=32)\n",
    "\n",
    "#Проверяем как модель распознает тестовый набор\n",
    "test_loss, test_accuracy = model.evaluate(\n",
    "    new_test_images, new_test_labels, verbose=0)\n",
    "print('Test data loss:', test_loss)\n",
    "print('Test data accuracy:', test_accuracy)\n",
    "#Проверяем как модель распознает контрольный набор\n",
    "train_loss, train_accuracy = model.evaluate(\n",
    "    new_train_images, new_train_labels, verbose=0)\n",
    "print('Train data loss:', train_loss)\n",
    "print('Train data accuracy:', train_accuracy)"
   ]
  },
  {
   "cell_type": "markdown",
   "id": "9b0c18e9",
   "metadata": {},
   "source": [
    "Напишем функцию, которая позволит загружать пользовательское изображение не из датасета"
   ]
  },
  {
   "cell_type": "code",
   "execution_count": 40,
   "id": "a7e96dc0",
   "metadata": {},
   "outputs": [],
   "source": [
    "#Импорт бибилиотек\n",
    "import requests\n",
    "import numpy as np\n",
    "\n",
    "from PIL import Image\n",
    "#from io import BytesIO\n",
    "\n",
    "import matplotlib.pyplot as plt\n",
    "\n",
    "import tensorflow as tf\n",
    "from tensorflow.keras.utils import to_categorical\n",
    "from tensorflow.keras.datasets import mnist\n",
    "from tensorflow.keras.layers import Dense, Activation, Flatten, Dropout\n",
    "from tensorflow.keras.models import Sequential"
   ]
  },
  {
   "cell_type": "code",
   "execution_count": 41,
   "id": "3e375a94",
   "metadata": {},
   "outputs": [],
   "source": [
    "#Зададим размеры изображения и получим произведения элементов для reshape\n",
    "img_size = (28, 28)\n",
    "img_size_flat = np.prod(img_size)"
   ]
  },
  {
   "cell_type": "code",
   "execution_count": 42,
   "id": "d7ddf0ec",
   "metadata": {},
   "outputs": [],
   "source": [
    "# Загрузим данные\n",
    "(train_images, train_labels),(test_images, test_labels) = mnist.load_data()\n",
    "\n",
    "# Переведем данные в формат с плавающей запятой, поскольку они являютстя целыми числами,\n",
    "#изменим форму матрицы, тоесть перенесем в одномерное пространство,тк рассматриваем каждый пиксель как\n",
    "#отдельное входное значение. И проведем нормализацию, поделив на 255\n",
    "train_images = train_images.reshape(-1, img_size_flat).astype('float32') / 255\n",
    "test_images = test_images.reshape(-1, img_size_flat).astype('float32') / 255\n",
    "\n",
    "# Переведем изображения в унитарный код\n",
    "train_labels = to_categorical(train_labels)\n",
    "test_labels = to_categorical(test_labels)"
   ]
  },
  {
   "cell_type": "code",
   "execution_count": 43,
   "id": "619c94d0",
   "metadata": {},
   "outputs": [
    {
     "name": "stdout",
     "output_type": "stream",
     "text": [
      "Epoch 1/10\n",
      "469/469 [==============================] - 1s 1ms/step - loss: 0.3116 - accuracy: 0.9143 - val_loss: 0.1625 - val_accuracy: 0.9543\n",
      "Epoch 2/10\n",
      "469/469 [==============================] - 0s 944us/step - loss: 0.1341 - accuracy: 0.9621 - val_loss: 0.1109 - val_accuracy: 0.9679\n",
      "Epoch 3/10\n",
      "469/469 [==============================] - 0s 953us/step - loss: 0.0912 - accuracy: 0.9735 - val_loss: 0.0941 - val_accuracy: 0.9709\n",
      "Epoch 4/10\n",
      "469/469 [==============================] - 0s 970us/step - loss: 0.0676 - accuracy: 0.9807 - val_loss: 0.0775 - val_accuracy: 0.9774\n",
      "Epoch 5/10\n",
      "469/469 [==============================] - 0s 972us/step - loss: 0.0531 - accuracy: 0.9847 - val_loss: 0.0705 - val_accuracy: 0.9786\n",
      "Epoch 6/10\n",
      "469/469 [==============================] - 0s 930us/step - loss: 0.0414 - accuracy: 0.9882 - val_loss: 0.0652 - val_accuracy: 0.9789\n",
      "Epoch 7/10\n",
      "469/469 [==============================] - 0s 937us/step - loss: 0.0321 - accuracy: 0.9912 - val_loss: 0.0711 - val_accuracy: 0.9777\n",
      "Epoch 8/10\n",
      "469/469 [==============================] - 0s 966us/step - loss: 0.0262 - accuracy: 0.9931 - val_loss: 0.0651 - val_accuracy: 0.9789\n",
      "Epoch 9/10\n",
      "469/469 [==============================] - 0s 959us/step - loss: 0.0210 - accuracy: 0.9947 - val_loss: 0.0686 - val_accuracy: 0.9802\n",
      "Epoch 10/10\n",
      "469/469 [==============================] - 0s 953us/step - loss: 0.0171 - accuracy: 0.9958 - val_loss: 0.0639 - val_accuracy: 0.9808\n",
      "Test data loss: 0.063894122838974\n",
      "Test data accuracy: 0.9807999730110168\n",
      "Train data loss: 0.013075251132249832\n",
      "Train data accuracy: 0.9970999956130981\n"
     ]
    }
   ],
   "source": [
    "#Задаем базовую архитектуру сети\n",
    "model = Sequential()\n",
    "model.add(Flatten())\n",
    "model.add(Dense(256, activation='relu'))\n",
    "model.add(Dense(10, activation='softmax'))\n",
    "\n",
    "#Настраиваем параметры сети\n",
    "model.compile(optimizer='adam',loss='categorical_crossentropy', metrics=['accuracy'])\n",
    "\n",
    "#Начинаем обучение сети\n",
    "model.fit(train_images, train_labels, epochs=10, batch_size=128, validation_data=(test_images, test_labels))\n",
    "\n",
    "#Проверяем как модель распознает тестовый набор\n",
    "test_loss, test_accuracy = model.evaluate(test_images, test_labels, verbose=0)\n",
    "print('Test data loss:', test_loss)\n",
    "print('Test data accuracy:', test_accuracy)\n",
    "#Проверяем как модель распознает контрольный набор\n",
    "train_loss, train_accuracy = model.evaluate(train_images, train_labels, verbose=0)\n",
    "print('Train data loss:', train_loss)\n",
    "print('Train data accuracy:', train_accuracy)"
   ]
  },
  {
   "cell_type": "code",
   "execution_count": 44,
   "id": "b11d4b25",
   "metadata": {},
   "outputs": [],
   "source": [
    "# Функция получения изображения и его преобразования для дальнейшей работы\n",
    "# url - ссылка на изображение\n",
    "# target_size - размер изображения, преобразуем до 28х28 пикселей\n",
    "# convert_to='L' - преобразование цвета изображения на оттенки серого\n",
    "def get_image(url, target_size=(img_size), convert_to='L'):\n",
    "#     if url.lower().startswith('http'):\n",
    "#         r = requests.get(url)\n",
    "#         url = BytesIO(r.content)\n",
    "    img = (Image.open(url).convert(convert_to).resize(target_size))\n",
    "    return np.array(img).reshape(-1, np.prod(target_size))\n",
    "\n",
    "def predict_digit(img, model):\n",
    "    return model.predict(img).argmax() "
   ]
  },
  {
   "cell_type": "code",
   "execution_count": 45,
   "id": "bc3ecde2",
   "metadata": {},
   "outputs": [
    {
     "name": "stdout",
     "output_type": "stream",
     "text": [
      "3\n"
     ]
    },
    {
     "data": {
      "image/png": "[encoded data removed]",
      "text/plain": [
       "<Figure size 432x288 with 1 Axes>"
      ]
     },
     "metadata": {
      "needs_background": "light"
     },
     "output_type": "display_data"
    }
   ],
   "source": [
    "#Загрузим свою картинку и подадим ее на вход обученной модели\n",
    "img = get_image(r\"C:\\Users\\zazah\\sii\\lab4\\3.png\")\n",
    "#Узнаем предсказание для загруженного нами изображения в уже обученную модель\n",
    "predict = predict_digit(img, model)\n",
    "plt.imshow(img.reshape(img_size), cmap='gray')\n",
    "print(predict)"
   ]
  },
  {
   "cell_type": "markdown",
   "id": "12fc18d1",
   "metadata": {},
   "source": [
    "## Вывод\n",
    "\n",
    "В результате выполнения лабораторной работы можно сделать вывод, что для задачи анализа изображения наиболее эффективен\n",
    "анализатор Adam, при использовании других оптимизаторов потери возрастают, а точность снижается. Также была реализована функция, которая выполняет загрузку пользовательского изображения с компьютера пользователя"
   ]
  }
 ],
 "metadata": {
  "kernelspec": {
   "display_name": "Python 3 (ipykernel)",
   "language": "python",
   "name": "python3"
  },
  "language_info": {
   "codemirror_mode": {
    "name": "ipython",
    "version": 3
   },
   "file_extension": ".py",
   "mimetype": "text/x-python",
   "name": "python",
   "nbconvert_exporter": "python",
   "pygments_lexer": "ipython3",
   "version": "3.10.2"
  }
 },
 "nbformat": 4,
 "nbformat_minor": 5
}
